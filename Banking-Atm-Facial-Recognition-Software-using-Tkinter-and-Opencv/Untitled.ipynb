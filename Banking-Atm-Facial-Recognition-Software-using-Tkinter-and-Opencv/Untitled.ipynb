{
 "cells": [
  {
   "cell_type": "code",
   "execution_count": null,
   "metadata": {},
   "outputs": [],
   "source": []
  }
 ],
 "metadata": {
  "kernelspec": {
   "display_name": "Python 3.7.4 32-bit",
   "language": "python",
   "name": "python37432bit7aa219698ead429692bca412d8a9fdf0"
  }
 },
 "nbformat": 4,
 "nbformat_minor": 4
}
